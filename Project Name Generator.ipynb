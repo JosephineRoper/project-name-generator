{
 "cells": [
  {
   "cell_type": "code",
   "execution_count": 7,
   "metadata": {},
   "outputs": [],
   "source": [
    "# Import Packages\n",
    "import nltk\n",
    "import itertools"
   ]
  },
  {
   "cell_type": "code",
   "execution_count": 12,
   "metadata": {},
   "outputs": [
    {
     "name": "stderr",
     "output_type": "stream",
     "text": [
      "[nltk_data] Downloading package stopwords to\n",
      "[nltk_data]     C:\\Users\\z3258367\\AppData\\Roaming\\nltk_data...\n",
      "[nltk_data]   Package stopwords is already up-to-date!\n",
      "[nltk_data] Downloading package words to\n",
      "[nltk_data]     C:\\Users\\z3258367\\AppData\\Roaming\\nltk_data...\n",
      "[nltk_data]   Unzipping corpora\\words.zip.\n"
     ]
    },
    {
     "data": {
      "text/plain": [
       "True"
      ]
     },
     "execution_count": 12,
     "metadata": {},
     "output_type": "execute_result"
    }
   ],
   "source": [
    "nltk.download('words')"
   ]
  },
  {
   "cell_type": "code",
   "execution_count": 13,
   "metadata": {},
   "outputs": [],
   "source": [
    "from nltk.corpus import words"
   ]
  },
  {
   "cell_type": "code",
   "execution_count": 5,
   "metadata": {},
   "outputs": [],
   "source": [
    "# Edit sentence to generate name from\n",
    "sentence = \"Semi Automated Document Analysis Tool\""
   ]
  },
  {
   "cell_type": "code",
   "execution_count": 8,
   "metadata": {},
   "outputs": [],
   "source": [
    "# Calculate combinations\n",
    "word_list = sentence.split()\n",
    "word_list = [word.lower() for word in word_list]\n",
    "combinations = [i for i in itertools.product(*word_list)]\n",
    "combinations_len = len(combinations)"
   ]
  },
  {
   "cell_type": "code",
   "execution_count": null,
   "metadata": {},
   "outputs": [],
   "source": [
    "#Print complete list of combinations\n",
    "for combo in combinations:\n",
    "    print(''.join(combo))"
   ]
  },
  {
   "cell_type": "code",
   "execution_count": 14,
   "metadata": {},
   "outputs": [
    {
     "name": "stdout",
     "output_type": "stream",
     "text": [
      "9216/9216\r"
     ]
    }
   ],
   "source": [
    "# Select only words appearing in the english language\n",
    "english_words = []\n",
    "\n",
    "i = 0\n",
    "for combo in combinations:\n",
    "    word = ''.join(combo)\n",
    "    result = word in words.words()\n",
    "    \n",
    "    if result == True:\n",
    "        \n",
    "        print(word, end = \"\\r\")\n",
    "        english_words.append(word)\n",
    "        \n",
    "    i += 1\n",
    "    print(str(i) + \"/\" + str(combinations_len), end = \"\\r\")"
   ]
  },
  {
   "cell_type": "code",
   "execution_count": 91,
   "metadata": {},
   "outputs": [
    {
     "data": {
      "text/plain": [
       "['sault',\n",
       " 'stoat',\n",
       " 'stoat',\n",
       " 'stunt',\n",
       " 'stull',\n",
       " 'steal',\n",
       " 'stent',\n",
       " 'steno',\n",
       " 'steno',\n",
       " 'steal',\n",
       " 'stell',\n",
       " 'sodio',\n",
       " 'sodio',\n",
       " 'somal',\n",
       " 'somal',\n",
       " 'smolt',\n",
       " 'smelt',\n",
       " 'smell',\n",
       " 'sault',\n",
       " 'stoat',\n",
       " 'stoat',\n",
       " 'stunt',\n",
       " 'stull',\n",
       " 'steal',\n",
       " 'stent',\n",
       " 'steno',\n",
       " 'steno',\n",
       " 'steal',\n",
       " 'stell',\n",
       " 'senso',\n",
       " 'senso',\n",
       " 'senso',\n",
       " 'senso',\n",
       " 'setal',\n",
       " 'setal',\n",
       " 'macao',\n",
       " 'macao',\n",
       " 'macao',\n",
       " 'macao',\n",
       " 'manal',\n",
       " 'manal',\n",
       " 'manso',\n",
       " 'manso',\n",
       " 'manso',\n",
       " 'manso',\n",
       " 'modal',\n",
       " 'modal',\n",
       " 'moost',\n",
       " 'moost',\n",
       " 'mount',\n",
       " 'monal',\n",
       " 'monal',\n",
       " 'macao',\n",
       " 'macao',\n",
       " 'macao',\n",
       " 'macao',\n",
       " 'manal',\n",
       " 'manal',\n",
       " 'manso',\n",
       " 'manso',\n",
       " 'manso',\n",
       " 'manso',\n",
       " 'medal',\n",
       " 'medal',\n",
       " 'medio',\n",
       " 'medio',\n",
       " 'metal',\n",
       " 'metal',\n",
       " 'immit',\n",
       " 'iddat',\n",
       " 'iddat',\n",
       " 'ideal',\n",
       " 'ideal']"
      ]
     },
     "execution_count": 91,
     "metadata": {},
     "output_type": "execute_result"
    }
   ],
   "source": [
    "english_words"
   ]
  },
  {
   "cell_type": "code",
   "execution_count": null,
   "metadata": {},
   "outputs": [],
   "source": [
    "from nltk import FreqDist\n",
    "nltk.download('brown')\n",
    "from nltk.corpus import brown\n",
    "frequency_list = FreqDist(i.lower() for i in brown.words())"
   ]
  },
  {
   "cell_type": "code",
   "execution_count": 90,
   "metadata": {},
   "outputs": [
    {
     "data": {
      "text/plain": [
       "[('metal', 61),\n",
       " ('ideal', 61),\n",
       " ('smell', 34),\n",
       " ('mount', 26),\n",
       " ('medal', 7),\n",
       " ('steal', 5),\n",
       " ('modal', 3),\n",
       " ('smelt', 3),\n",
       " ('stunt', 1),\n",
       " ('steno', 0),\n",
       " ('immit', 0),\n",
       " ('stull', 0),\n",
       " ('macao', 0),\n",
       " ('medio', 0),\n",
       " ('senso', 0),\n",
       " ('sault', 0),\n",
       " ('somal', 0),\n",
       " ('monal', 0),\n",
       " ('stell', 0),\n",
       " ('smolt', 0),\n",
       " ('setal', 0),\n",
       " ('stoat', 0),\n",
       " ('manso', 0),\n",
       " ('stent', 0),\n",
       " ('manal', 0),\n",
       " ('iddat', 0),\n",
       " ('moost', 0),\n",
       " ('sodio', 0)]"
      ]
     },
     "execution_count": 90,
     "metadata": {},
     "output_type": "execute_result"
    }
   ],
   "source": [
    "frequencies = sorted([(i,frequency_list[i]) for i in set(english_words)],key=lambda a: a[1],reverse=True)\n",
    "frequencies"
   ]
  },
  {
   "cell_type": "code",
   "execution_count": 89,
   "metadata": {},
   "outputs": [
    {
     "name": "stderr",
     "output_type": "stream",
     "text": [
      "[nltk_data] Downloading package webtext to\n",
      "[nltk_data]     C:\\Users\\z3258367\\AppData\\Roaming\\nltk_data...\n",
      "[nltk_data]   Unzipping corpora\\webtext.zip.\n"
     ]
    },
    {
     "data": {
      "text/plain": [
       "[('smell', 55),\n",
       " ('steal', 17),\n",
       " ('modal', 10),\n",
       " ('metal', 9),\n",
       " ('mount', 3),\n",
       " ('smelt', 3),\n",
       " ('ideal', 3),\n",
       " ('medal', 1),\n",
       " ('steno', 0),\n",
       " ('immit', 0),\n",
       " ('stull', 0),\n",
       " ('macao', 0),\n",
       " ('medio', 0),\n",
       " ('senso', 0),\n",
       " ('sault', 0),\n",
       " ('somal', 0),\n",
       " ('monal', 0),\n",
       " ('stell', 0),\n",
       " ('smolt', 0),\n",
       " ('setal', 0),\n",
       " ('stoat', 0),\n",
       " ('manso', 0),\n",
       " ('stent', 0),\n",
       " ('manal', 0),\n",
       " ('iddat', 0),\n",
       " ('moost', 0),\n",
       " ('stunt', 0),\n",
       " ('sodio', 0)]"
      ]
     },
     "execution_count": 89,
     "metadata": {},
     "output_type": "execute_result"
    }
   ],
   "source": [
    "nltk.download('webtext')\n",
    "from nltk.corpus import webtext\n",
    "frequency_list_2 = FreqDist(i.lower() for i in webtext.words())\n",
    "frequencies = sorted([(i,frequency_list_2[i]) for i in set(english_words)],key=lambda a: a[1],reverse=True)\n",
    "frequencies"
   ]
  },
  {
   "cell_type": "code",
   "execution_count": null,
   "metadata": {},
   "outputs": [],
   "source": []
  }
 ],
 "metadata": {
  "kernelspec": {
   "display_name": "Python 3",
   "language": "python",
   "name": "python3"
  },
  "language_info": {
   "codemirror_mode": {
    "name": "ipython",
    "version": 3
   },
   "file_extension": ".py",
   "mimetype": "text/x-python",
   "name": "python",
   "nbconvert_exporter": "python",
   "pygments_lexer": "ipython3",
   "version": "3.8.10"
  }
 },
 "nbformat": 4,
 "nbformat_minor": 2
}
